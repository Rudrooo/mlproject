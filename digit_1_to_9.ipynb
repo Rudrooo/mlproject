{
 "cells": [
  {
   "cell_type": "code",
   "execution_count": 1,
   "id": "a48416c6-ad42-4139-a822-1d48ca341130",
   "metadata": {},
   "outputs": [],
   "source": [
    "import pandas as pd\n",
    "import numpy as np\n",
    "import matplotlib.pyplot as plt\n",
    "import tensorflow as tf\n",
    "from tensorflow.keras.layers import Dense\n",
    "from tensorflow.keras import Sequential\n",
    "from sklearn.model_selection import train_test_split\n",
    "from sklearn import metrics\n",
    " "
   ]
  },
  {
   "cell_type": "code",
   "execution_count": 2,
   "id": "31cb6728-ad94-4070-b431-0a0dc83df0a9",
   "metadata": {},
   "outputs": [],
   "source": [
    "df_train=pd.read_csv(\"train.csv\")\n"
   ]
  },
  {
   "cell_type": "code",
   "execution_count": 3,
   "id": "1523a2a5-3071-4dc6-84af-b3639ba30644",
   "metadata": {},
   "outputs": [
    {
     "name": "stdout",
     "output_type": "stream",
     "text": [
      "(42000, 785)\n"
     ]
    },
    {
     "data": {
      "text/plain": [
       "Index(['label', 'pixel0', 'pixel1', 'pixel2', 'pixel3', 'pixel4', 'pixel5',\n",
       "       'pixel6', 'pixel7', 'pixel8',\n",
       "       ...\n",
       "       'pixel774', 'pixel775', 'pixel776', 'pixel777', 'pixel778', 'pixel779',\n",
       "       'pixel780', 'pixel781', 'pixel782', 'pixel783'],\n",
       "      dtype='object', length=785)"
      ]
     },
     "execution_count": 3,
     "metadata": {},
     "output_type": "execute_result"
    }
   ],
   "source": [
    "print(df_train.shape)\n",
    "df_train.columns"
   ]
  },
  {
   "cell_type": "code",
   "execution_count": 4,
   "id": "e7ce3122-95e2-4a90-95a8-95cfbf5b9183",
   "metadata": {},
   "outputs": [],
   "source": [
    "feature=[i for i in df_train.columns if i !=\"label\"]\n"
   ]
  },
  {
   "cell_type": "code",
   "execution_count": 5,
   "id": "69294cbf-4dee-45e3-9bb9-60d532fee8b6",
   "metadata": {},
   "outputs": [],
   "source": [
    "X_train,y_train=df_train[feature],df_train[\"label\"]"
   ]
  },
  {
   "cell_type": "code",
   "execution_count": 6,
   "id": "c34fb7b7-065c-42f9-a13e-1141ffb922ea",
   "metadata": {},
   "outputs": [
    {
     "data": {
      "text/plain": [
       "(42000, 784)"
      ]
     },
     "execution_count": 6,
     "metadata": {},
     "output_type": "execute_result"
    }
   ],
   "source": [
    "X_train,y_train=np.array(X_train),np.array(y_train)\n",
    "X_train.shape"
   ]
  },
  {
   "cell_type": "code",
   "execution_count": 7,
   "id": "fbdc13d8-3611-422e-84f0-f7bbc5ab45c9",
   "metadata": {},
   "outputs": [
    {
     "name": "stdout",
     "output_type": "stream",
     "text": [
      "<class 'numpy.ndarray'> <class 'numpy.ndarray'>\n"
     ]
    }
   ],
   "source": [
    "print(type(X_train),type(y_train))"
   ]
  },
  {
   "cell_type": "code",
   "execution_count": 8,
   "id": "68509327-f274-4eb0-b714-f6772cd5f9c1",
   "metadata": {},
   "outputs": [
    {
     "name": "stdout",
     "output_type": "stream",
     "text": [
      "(33600, 784) (8400, 784)\n"
     ]
    }
   ],
   "source": [
    "X_train,X_val,y_train,y_val=train_test_split(X_train,y_train,test_size=0.2,random_state=1)\n",
    "print(X_train.shape,X_val.shape)"
   ]
  },
  {
   "cell_type": "code",
   "execution_count": 9,
   "id": "61d73768-3adf-47d6-aa7a-787cfdaf2c0f",
   "metadata": {},
   "outputs": [
    {
     "data": {
      "text/plain": [
       "(33600,)"
      ]
     },
     "execution_count": 9,
     "metadata": {},
     "output_type": "execute_result"
    }
   ],
   "source": [
    "a=np.ptp(X_train,axis=0)\n",
    "y_train.shape"
   ]
  },
  {
   "cell_type": "code",
   "execution_count": 10,
   "id": "1680ce1d-4668-4404-91d9-f59ede9f7f88",
   "metadata": {},
   "outputs": [],
   "source": [
    "b=np.ptp(y_train)"
   ]
  },
  {
   "cell_type": "code",
   "execution_count": 11,
   "id": "c24d53df-32bd-4837-9667-1a74538e6eb6",
   "metadata": {},
   "outputs": [
    {
     "name": "stdout",
     "output_type": "stream",
     "text": [
      "9\n"
     ]
    }
   ],
   "source": [
    "print(b)"
   ]
  },
  {
   "cell_type": "code",
   "execution_count": 12,
   "id": "859af3aa-8a09-4baf-b74d-15fcd68c3bdc",
   "metadata": {},
   "outputs": [
    {
     "data": {
      "text/plain": [
       "TensorShape([33600, 784])"
      ]
     },
     "execution_count": 12,
     "metadata": {},
     "output_type": "execute_result"
    }
   ],
   "source": [
    "norm=tf.keras.layers.Normalization(axis=-1)\n",
    "norm.adapt(X_train)\n",
    "X_train_norm=norm(X_train)\n",
    "X_train_norm.shape"
   ]
  },
  {
   "cell_type": "code",
   "execution_count": 13,
   "id": "38054f48-4d1f-4f60-a519-4d9baf0907f9",
   "metadata": {},
   "outputs": [],
   "source": [
    "c=np.ptp(X_train_norm,axis=0)"
   ]
  },
  {
   "cell_type": "code",
   "execution_count": 14,
   "id": "07f7e50a-9031-4e17-9176-dd686992438e",
   "metadata": {},
   "outputs": [
    {
     "name": "stdout",
     "output_type": "stream",
     "text": [
      "[  0.          0.          0.          0.          0.          0.\n",
      "   0.          0.          0.          0.          0.          0.\n",
      " 182.62848   139.64278   183.30557   183.3059      0.          0.\n",
      "   0.          0.          0.          0.          0.          0.\n",
      "   0.          0.          0.          0.          0.          0.\n",
      "   0.          0.        183.30627   183.3063    143.93764   127.398384\n",
      " 100.37448    82.82537    51.919216   42.179413   43.579624   40.60867\n",
      "  42.95665    45.18325    44.233482   46.193142   54.337376   71.15157\n",
      "  83.60458   143.7768    154.68465   183.3058      0.          0.\n",
      "   0.          0.          0.          0.        183.30595   183.30585\n",
      " 130.89445   120.05201    83.62378    45.968445   33.43107    25.588913\n",
      "  20.024605   16.147722   13.017745   11.216493    9.809618    9.200073\n",
      "   9.2857275  10.076259   11.230733   12.911655   16.724268   23.481974\n",
      "  32.20591    62.20456    98.73212   141.60037     0.          0.\n",
      "   0.          0.        183.30595   143.14668   109.340546   69.75733\n",
      "  39.71503    26.02063    17.117807   12.199385    9.44659     7.6096745\n",
      "   6.534158    5.761235    5.260155    4.959482    5.0768247   5.420381\n",
      "   5.987479    7.0516353   8.992145   11.879899   17.296606   27.601183\n",
      "  44.045307   98.22977   183.30595     0.          0.        183.30588\n",
      " 168.31519    96.09029    63.721264   31.212687   19.29225    12.121817\n",
      "   8.452336    6.3313255   4.9947743   4.1550055   3.6032145   3.2320518\n",
      "   3.021486    2.926917    2.9802258   3.1407018   3.460135    3.94308\n",
      "   4.838204    6.29153     8.711991   12.816385   20.560223   46.24103\n",
      "  94.350365    0.          0.          0.        100.387405   86.201416\n",
      "  33.40486    15.792691   10.018697    6.9944186   5.20932     4.0648727\n",
      "   3.3748567   2.9340854   2.642272    2.4618661   2.371824    2.34526\n",
      "   2.3647547   2.4297485   2.5852976   2.8508406   3.314263    4.1002913\n",
      "   5.371558    7.4649343  11.180286   22.840454   59.39467   183.30595\n",
      "   0.          0.        111.805595   39.749557   17.670279   10.274935\n",
      "   6.8272796   4.946199    3.8501816   3.141342    2.7371147   2.500793\n",
      "   2.3616776   2.2938895   2.274273    2.2725697   2.2700522   2.2741504\n",
      "   2.3221676   2.4669676   2.7438736   3.2849388   4.146537    5.634379\n",
      "   8.270496   14.840822   34.508404  130.93594     0.        101.96767\n",
      "  62.02834    25.67304    12.085843    7.6103935   5.251097    3.988007\n",
      "   3.2194726   2.7476726   2.499994    2.3715262   2.3202827   2.306657\n",
      "   2.303163    2.3141065   2.3143368   2.3048506   2.3003693   2.3511198\n",
      "   2.535067    2.9243019   3.6543152   4.9080777   7.270454   12.525262\n",
      "  30.870026  109.75838   183.30577    74.63718    31.056484   16.252043\n",
      "   9.360196    6.2842536   4.5199084   3.508304    2.8899796   2.539724\n",
      "   2.36703     2.301344    2.2912867   2.2854972   2.2899318   2.3006883\n",
      "   2.303636    2.2975836   2.287405    2.3160386   2.4504511   2.783245\n",
      "   3.4411151   4.743375    7.192431   12.141708   28.94953   133.59552\n",
      " 138.40984    56.84391    25.844088   13.694945    8.505848    5.8596926\n",
      "   4.2182817   3.2754323   2.7120092   2.4290705   2.308741    2.2834415\n",
      "   2.2908301   2.3185349   2.3442974   2.346062    2.3366315   2.3081403\n",
      "   2.2915573   2.3182597   2.4452543   2.7730527   3.4453871   4.862271\n",
      "   7.848501   14.33737    34.442295  110.98509   114.41981    54.226494\n",
      "  25.507736   13.844715    8.725371    5.866357    4.1372166   3.1807988\n",
      "   2.6331325   2.3830774   2.3042345   2.304938    2.3696373   2.4577196\n",
      "   2.4822147   2.4269946   2.3833811   2.3208764   2.3055367   2.335949\n",
      "   2.4959059   2.8587205   3.5772872   5.1297016   8.926651   18.095922\n",
      "  41.870766  104.26571   165.81622    69.685356   26.528294   15.864655\n",
      "   9.571299    6.0635357   4.088198    3.0897875   2.5668633   2.3595357\n",
      "   2.3081713   2.3410387   2.4554188   2.5464828   2.4798374   2.39613\n",
      "   2.3617518   2.3154225   2.3082225   2.3664227   2.5849752   3.009614\n",
      "   3.7326458   5.250815    9.402348   24.53278    55.286575  159.46129\n",
      " 183.30576    90.759926   33.695885   18.332397   10.677893    6.0382295\n",
      "   3.9357939   2.9567924   2.5063329   2.3364935   2.3083572   2.3541925\n",
      "   2.4517114   2.4645448   2.3395214   2.2984376   2.3174589   2.2920423\n",
      "   2.295694    2.405912    2.690524    3.1302774   3.8070228   5.1244407\n",
      "   9.032653   29.687351   70.37704   119.06087   183.30597   161.69434\n",
      "  49.793453   22.662178   11.153555    5.7210627   3.7214057   2.847919\n",
      "   2.4655313   2.329875    2.311788    2.3540704   2.395886    2.345782\n",
      "   2.2410398   2.283165    2.3173993   2.2738857   2.2839303   2.4368122\n",
      "   2.7404454   3.1503234   3.7677925   4.91541     8.286204   26.663687\n",
      "  79.53703   183.3058      0.        182.0644     78.55155    28.55586\n",
      "  11.0985775   5.3204546   3.5359707   2.7786083   2.4477468   2.335516\n",
      "   2.3261137   2.358912    2.363034    2.2857738   2.2414358   2.3261003\n",
      "   2.3265328   2.268283    2.290863    2.4462492   2.7036      3.079126\n",
      "   3.6711667   4.767061    7.7677207  22.78726    66.00801     0.\n",
      "   0.          0.        105.606964   26.968563   10.102514    4.945406\n",
      "   3.4117434   2.7595968   2.470744    2.3643255   2.3529003   2.3559437\n",
      "   2.3234515   2.2628224   2.2640185   2.3305078   2.2925296   2.2661567\n",
      "   2.3220978   2.4409757   2.6525633   3.006538    3.593631    4.737907\n",
      "   7.6109705  18.311777   53.140175  183.30562     0.        151.5225\n",
      "  76.44866    23.668486    8.988853    4.6313424   3.3307254   2.7907221\n",
      "   2.5288253   2.420965    2.399467    2.3782992   2.3214133   2.259819\n",
      "   2.260766    2.2922356   2.2710755   2.2916775   2.352151    2.4409351\n",
      "   2.6156342   2.979725    3.6019487   4.8522053   7.812007   16.768236\n",
      "  46.65186   131.39064     0.        132.98633    60.358067   19.740631\n",
      "   7.7655926   4.3837295   3.2806315   2.8323555   2.6116147   2.5064766\n",
      "   2.4654307   2.4214022   2.356092    2.302504    2.2786064   2.2838674\n",
      "   2.2952704   2.3169975   2.354072    2.4202995   2.615158    3.0085282\n",
      "   3.74176     5.155722    8.383857   16.482061   44.699      91.34887\n",
      " 139.66998   168.93352    45.352283   15.393837    6.7506022   4.1466208\n",
      "   3.2194693   2.8234897   2.6398644   2.5412805   2.4775877   2.432027\n",
      "   2.3996525   2.3375692   2.297423    2.2968283   2.3117828   2.3159356\n",
      "   2.3355565   2.4159317   2.6562169   3.1092672   3.9333215   5.5182433\n",
      "   8.911498   17.515373   53.106426  126.898254    0.        169.26236\n",
      "  34.683083   13.052568    6.2695513   3.9984238   3.1284747   2.7549727\n",
      "   2.5795703   2.4808996   2.4195628   2.3839395   2.3487961   2.317441\n",
      "   2.2843792   2.2899642   2.3027625   2.294693    2.3292456   2.4660187\n",
      "   2.7606983   3.291516    4.267871    6.134036    9.862857   19.108665\n",
      "  50.629215  144.45155     0.        143.19238    33.273064   12.198622\n",
      "   6.256336    4.081704    3.133295    2.7007911   2.4935274   2.3896556\n",
      "   2.3389246   2.311928    2.2928944   2.2884274   2.285705    2.2893105\n",
      "   2.292355    2.3025444   2.3823254   2.596952    3.0165691   3.7407188\n",
      "   5.045819    7.2168427  11.317497   21.649904   62.893982  183.30582\n",
      " 183.3063    128.93413    37.113865   13.471548    7.163656    4.525735\n",
      "   3.3338642   2.758452    2.4729433   2.3387764   2.295764    2.284242\n",
      "   2.292706    2.3100266   2.305305    2.2984023   2.302771    2.3607543\n",
      "   2.536209    2.9016743   3.5467243   4.6770897   6.4434133   9.155483\n",
      "  14.5422     28.411499   74.35577   183.3058    183.30603   170.19666\n",
      "  50.12346    17.429482    9.381193    5.7285643   3.929687    3.072208\n",
      "   2.613649    2.3852015   2.2836885   2.2573662   2.2665315   2.2759073\n",
      "   2.2717118   2.290072    2.3717384   2.5610986   2.9339871   3.5631123\n",
      "   4.6156697   6.2598453   8.832559   12.940952   21.43417    47.43239\n",
      " 125.08778   183.30579     0.          0.         89.01138    28.511572\n",
      "  13.916195    8.49556     5.5520687   3.9713697   3.1290646   2.67729\n",
      "   2.4463396   2.3450065   2.3102334   2.3179007   2.3556695   2.4667976\n",
      "   2.7023425   3.0985982   3.7755628   4.8299456   6.4397264   9.096035\n",
      "  12.999926   19.430708   37.13651    80.15516   125.614296    0.\n",
      "   0.          0.        154.75974    56.378597   26.702991   14.890879\n",
      "   9.440226    6.3319      4.650273    3.6977866   3.18151     2.9198868\n",
      "   2.814313    2.809988    2.9416664   3.219398    3.6396077   4.278565\n",
      "   5.320939    6.796117    9.3179655  13.370651   19.541996   30.173698\n",
      "  64.14157   115.648125  180.29063     0.          0.          0.\n",
      " 167.50871   146.2565     48.548584   28.320484   16.969542   10.801488\n",
      "   7.508959    5.8900385   4.982171    4.5588136   4.345186    4.357298\n",
      "   4.622396    4.992936    5.5663486   6.45        7.8456216  10.1672125\n",
      "  13.776432   20.098913   32.166893   50.895546  121.59334   151.22708\n",
      " 183.3057      0.          0.          0.          0.          0.\n",
      " 100.57904    57.159363   28.460985   17.326933   12.342404   10.10396\n",
      "   8.57268     7.5578175   7.1820765   7.273505    7.724231    8.485199\n",
      "   9.390389   11.017181   13.550789   17.47088    24.365076   41.46497\n",
      "  67.40736   138.99988   157.18536   183.30588     0.          0.\n",
      "   0.          0.          0.          0.          0.        166.68286\n",
      "  95.735306   68.669624   56.579857   42.452038   36.112473   29.581594\n",
      "  25.82717    24.699993   22.429375   23.137545   25.751917   30.687016\n",
      "  37.185196   53.02267    85.253784  163.42786   154.57451   183.30577\n",
      "   0.          0.          0.          0.       ]\n"
     ]
    }
   ],
   "source": [
    "print(c)"
   ]
  },
  {
   "cell_type": "code",
   "execution_count": 15,
   "id": "77823aae-d26a-4ab9-a31a-60802b348b1d",
   "metadata": {},
   "outputs": [],
   "source": [
    "model=Sequential([\n",
    "    Dense(units=50,activation=\"relu\"),\n",
    "    Dense(units=30,activation=\"relu\"),\n",
    "    Dense(units=10,activation=\"linear\")\n",
    "])"
   ]
  },
  {
   "cell_type": "code",
   "execution_count": 16,
   "id": "4af2a70c-fb5c-4388-b3e4-edb07f055203",
   "metadata": {},
   "outputs": [],
   "source": [
    "model.compile(optimizer=tf.keras.optimizers.Adam(learning_rate=1e-3),\n",
    "             loss=tf.keras.losses.SparseCategoricalCrossentropy(from_logits=True),\n",
    "             metrics=[\"accuracy\"])"
   ]
  },
  {
   "cell_type": "code",
   "execution_count": 17,
   "id": "6a98e1f2-b19c-4788-a0b3-a0704932bbc8",
   "metadata": {},
   "outputs": [
    {
     "name": "stdout",
     "output_type": "stream",
     "text": [
      "Epoch 1/100\n",
      "1050/1050 [==============================] - 5s 3ms/step - loss: 2.8755 - accuracy: 0.3982\n",
      "Epoch 2/100\n",
      "1050/1050 [==============================] - 5s 5ms/step - loss: 1.0719 - accuracy: 0.6363\n",
      "Epoch 3/100\n",
      "1050/1050 [==============================] - 4s 4ms/step - loss: 0.8107 - accuracy: 0.7302\n",
      "Epoch 4/100\n",
      "1050/1050 [==============================] - 7s 6ms/step - loss: 0.5885 - accuracy: 0.8300\n",
      "Epoch 5/100\n",
      "1050/1050 [==============================] - 4s 4ms/step - loss: 0.4529 - accuracy: 0.8835\n",
      "Epoch 6/100\n",
      "1050/1050 [==============================] - 6s 6ms/step - loss: 0.3388 - accuracy: 0.9135\n",
      "Epoch 7/100\n",
      "1050/1050 [==============================] - 4s 3ms/step - loss: 0.2723 - accuracy: 0.9313\n",
      "Epoch 8/100\n",
      "1050/1050 [==============================] - 6s 5ms/step - loss: 0.2331 - accuracy: 0.9415\n",
      "Epoch 9/100\n",
      "1050/1050 [==============================] - 3s 3ms/step - loss: 0.1954 - accuracy: 0.9502\n",
      "Epoch 10/100\n",
      "1050/1050 [==============================] - 3s 3ms/step - loss: 0.1707 - accuracy: 0.9563\n",
      "Epoch 11/100\n",
      "1050/1050 [==============================] - 4s 4ms/step - loss: 0.1499 - accuracy: 0.9616\n",
      "Epoch 12/100\n",
      "1050/1050 [==============================] - 3s 3ms/step - loss: 0.1501 - accuracy: 0.9626\n",
      "Epoch 13/100\n",
      "1050/1050 [==============================] - 4s 4ms/step - loss: 0.1334 - accuracy: 0.9655\n",
      "Epoch 14/100\n",
      "1050/1050 [==============================] - 5s 5ms/step - loss: 0.1161 - accuracy: 0.9699\n",
      "Epoch 15/100\n",
      "1050/1050 [==============================] - 5s 5ms/step - loss: 0.1136 - accuracy: 0.9704\n",
      "Epoch 16/100\n",
      "1050/1050 [==============================] - 4s 4ms/step - loss: 0.0964 - accuracy: 0.9742\n",
      "Epoch 17/100\n",
      "1050/1050 [==============================] - 3s 3ms/step - loss: 0.1018 - accuracy: 0.9736\n",
      "Epoch 18/100\n",
      "1050/1050 [==============================] - 4s 3ms/step - loss: 0.0941 - accuracy: 0.9755\n",
      "Epoch 19/100\n",
      "1050/1050 [==============================] - 3s 3ms/step - loss: 0.0893 - accuracy: 0.9780\n",
      "Epoch 20/100\n",
      "1050/1050 [==============================] - 2s 2ms/step - loss: 0.0813 - accuracy: 0.9782\n",
      "Epoch 21/100\n",
      "1050/1050 [==============================] - 3s 3ms/step - loss: 0.0821 - accuracy: 0.9780\n",
      "Epoch 22/100\n",
      "1050/1050 [==============================] - 4s 3ms/step - loss: 0.0749 - accuracy: 0.9806\n",
      "Epoch 23/100\n",
      "1050/1050 [==============================] - 3s 3ms/step - loss: 0.0720 - accuracy: 0.9814\n",
      "Epoch 24/100\n",
      "1050/1050 [==============================] - 2s 2ms/step - loss: 0.0749 - accuracy: 0.9803\n",
      "Epoch 25/100\n",
      "1050/1050 [==============================] - 3s 3ms/step - loss: 0.0675 - accuracy: 0.9823\n",
      "Epoch 26/100\n",
      "1050/1050 [==============================] - 2s 2ms/step - loss: 0.0682 - accuracy: 0.9823\n",
      "Epoch 27/100\n",
      "1050/1050 [==============================] - 2s 2ms/step - loss: 0.0688 - accuracy: 0.9821\n",
      "Epoch 28/100\n",
      "1050/1050 [==============================] - 2s 2ms/step - loss: 0.0606 - accuracy: 0.9840\n",
      "Epoch 29/100\n",
      "1050/1050 [==============================] - 2s 2ms/step - loss: 0.0647 - accuracy: 0.9843\n",
      "Epoch 30/100\n",
      "1050/1050 [==============================] - 3s 2ms/step - loss: 0.0555 - accuracy: 0.9858\n",
      "Epoch 31/100\n",
      "1050/1050 [==============================] - 2s 2ms/step - loss: 0.0591 - accuracy: 0.9851\n",
      "Epoch 32/100\n",
      "1050/1050 [==============================] - 3s 3ms/step - loss: 0.0596 - accuracy: 0.9846\n",
      "Epoch 33/100\n",
      "1050/1050 [==============================] - 2s 2ms/step - loss: 0.0643 - accuracy: 0.9847\n",
      "Epoch 34/100\n",
      "1050/1050 [==============================] - 2s 2ms/step - loss: 0.0469 - accuracy: 0.9879\n",
      "Epoch 35/100\n",
      "1050/1050 [==============================] - 3s 3ms/step - loss: 0.0548 - accuracy: 0.9860\n",
      "Epoch 36/100\n",
      "1050/1050 [==============================] - 2s 2ms/step - loss: 0.0526 - accuracy: 0.9866\n",
      "Epoch 37/100\n",
      "1050/1050 [==============================] - 2s 2ms/step - loss: 0.0513 - accuracy: 0.9868\n",
      "Epoch 38/100\n",
      "1050/1050 [==============================] - 3s 3ms/step - loss: 0.0519 - accuracy: 0.9875\n",
      "Epoch 39/100\n",
      "1050/1050 [==============================] - 3s 3ms/step - loss: 0.0469 - accuracy: 0.9884\n",
      "Epoch 40/100\n",
      "1050/1050 [==============================] - 2s 2ms/step - loss: 0.0534 - accuracy: 0.9870\n",
      "Epoch 41/100\n",
      "1050/1050 [==============================] - 3s 3ms/step - loss: 0.0473 - accuracy: 0.9885\n",
      "Epoch 42/100\n",
      "1050/1050 [==============================] - 2s 2ms/step - loss: 0.0468 - accuracy: 0.9885\n",
      "Epoch 43/100\n",
      "1050/1050 [==============================] - 3s 3ms/step - loss: 0.0493 - accuracy: 0.9887\n",
      "Epoch 44/100\n",
      " 195/1050 [====>.........................] - ETA: 2s - loss: 0.0468 - accuracy: 0.9891"
     ]
    },
    {
     "ename": "KeyboardInterrupt",
     "evalue": "",
     "output_type": "error",
     "traceback": [
      "\u001b[1;31m---------------------------------------------------------------------------\u001b[0m",
      "\u001b[1;31mKeyboardInterrupt\u001b[0m                         Traceback (most recent call last)",
      "\u001b[1;32me:\\rudro\\Machine Learning\\Project\\Digit\\New folder\\Rudro\\digit_1_to_9.ipynb Cell 17\u001b[0m line \u001b[0;36m1\n\u001b[1;32m----> <a href='vscode-notebook-cell:/e%3A/rudro/Machine%20Learning/Project/Digit/New%20folder/Rudro/digit_1_to_9.ipynb#X22sZmlsZQ%3D%3D?line=0'>1</a>\u001b[0m model\u001b[39m.\u001b[39mfit(X_train,y_train,epochs\u001b[39m=\u001b[39m\u001b[39m100\u001b[39m)\n",
      "File \u001b[1;32mc:\\Users\\User\\anaconda3\\Lib\\site-packages\\keras\\src\\utils\\traceback_utils.py:65\u001b[0m, in \u001b[0;36mfilter_traceback.<locals>.error_handler\u001b[1;34m(*args, **kwargs)\u001b[0m\n\u001b[0;32m     63\u001b[0m filtered_tb \u001b[39m=\u001b[39m \u001b[39mNone\u001b[39;00m\n\u001b[0;32m     64\u001b[0m \u001b[39mtry\u001b[39;00m:\n\u001b[1;32m---> 65\u001b[0m     \u001b[39mreturn\u001b[39;00m fn(\u001b[39m*\u001b[39margs, \u001b[39m*\u001b[39m\u001b[39m*\u001b[39mkwargs)\n\u001b[0;32m     66\u001b[0m \u001b[39mexcept\u001b[39;00m \u001b[39mException\u001b[39;00m \u001b[39mas\u001b[39;00m e:\n\u001b[0;32m     67\u001b[0m     filtered_tb \u001b[39m=\u001b[39m _process_traceback_frames(e\u001b[39m.\u001b[39m__traceback__)\n",
      "File \u001b[1;32mc:\\Users\\User\\anaconda3\\Lib\\site-packages\\keras\\src\\engine\\training.py:1774\u001b[0m, in \u001b[0;36mModel.fit\u001b[1;34m(self, x, y, batch_size, epochs, verbose, callbacks, validation_split, validation_data, shuffle, class_weight, sample_weight, initial_epoch, steps_per_epoch, validation_steps, validation_batch_size, validation_freq, max_queue_size, workers, use_multiprocessing)\u001b[0m\n\u001b[0;32m   1772\u001b[0m callbacks\u001b[39m.\u001b[39mon_epoch_begin(epoch)\n\u001b[0;32m   1773\u001b[0m \u001b[39mwith\u001b[39;00m data_handler\u001b[39m.\u001b[39mcatch_stop_iteration():\n\u001b[1;32m-> 1774\u001b[0m     \u001b[39mfor\u001b[39;00m step \u001b[39min\u001b[39;00m data_handler\u001b[39m.\u001b[39msteps():\n\u001b[0;32m   1775\u001b[0m         \u001b[39mwith\u001b[39;00m tf\u001b[39m.\u001b[39mprofiler\u001b[39m.\u001b[39mexperimental\u001b[39m.\u001b[39mTrace(\n\u001b[0;32m   1776\u001b[0m             \u001b[39m\"\u001b[39m\u001b[39mtrain\u001b[39m\u001b[39m\"\u001b[39m,\n\u001b[0;32m   1777\u001b[0m             epoch_num\u001b[39m=\u001b[39mepoch,\n\u001b[1;32m   (...)\u001b[0m\n\u001b[0;32m   1780\u001b[0m             _r\u001b[39m=\u001b[39m\u001b[39m1\u001b[39m,\n\u001b[0;32m   1781\u001b[0m         ):\n\u001b[0;32m   1782\u001b[0m             callbacks\u001b[39m.\u001b[39mon_train_batch_begin(step)\n",
      "File \u001b[1;32mc:\\Users\\User\\anaconda3\\Lib\\site-packages\\keras\\src\\engine\\data_adapter.py:1411\u001b[0m, in \u001b[0;36mDataHandler.steps\u001b[1;34m(self)\u001b[0m\n\u001b[0;32m   1409\u001b[0m \u001b[39mif\u001b[39;00m \u001b[39mself\u001b[39m\u001b[39m.\u001b[39m_insufficient_data:  \u001b[39m# Set by `catch_stop_iteration`.\u001b[39;00m\n\u001b[0;32m   1410\u001b[0m     \u001b[39mbreak\u001b[39;00m\n\u001b[1;32m-> 1411\u001b[0m original_spe \u001b[39m=\u001b[39m \u001b[39mself\u001b[39m\u001b[39m.\u001b[39m_steps_per_execution\u001b[39m.\u001b[39mnumpy()\u001b[39m.\u001b[39mitem()\n\u001b[0;32m   1412\u001b[0m can_run_full_execution \u001b[39m=\u001b[39m (\n\u001b[0;32m   1413\u001b[0m     original_spe \u001b[39m==\u001b[39m \u001b[39m1\u001b[39m\n\u001b[0;32m   1414\u001b[0m     \u001b[39mor\u001b[39;00m \u001b[39mself\u001b[39m\u001b[39m.\u001b[39m_inferred_steps \u001b[39mis\u001b[39;00m \u001b[39mNone\u001b[39;00m\n\u001b[0;32m   1415\u001b[0m     \u001b[39mor\u001b[39;00m \u001b[39mself\u001b[39m\u001b[39m.\u001b[39m_inferred_steps \u001b[39m-\u001b[39m \u001b[39mself\u001b[39m\u001b[39m.\u001b[39m_current_step \u001b[39m>\u001b[39m\u001b[39m=\u001b[39m original_spe\n\u001b[0;32m   1416\u001b[0m )\n\u001b[0;32m   1418\u001b[0m \u001b[39mif\u001b[39;00m can_run_full_execution:\n",
      "File \u001b[1;32mc:\\Users\\User\\anaconda3\\Lib\\site-packages\\tensorflow\\python\\ops\\resource_variable_ops.py:687\u001b[0m, in \u001b[0;36mBaseResourceVariable.numpy\u001b[1;34m(self)\u001b[0m\n\u001b[0;32m    685\u001b[0m \u001b[39mdef\u001b[39;00m \u001b[39mnumpy\u001b[39m(\u001b[39mself\u001b[39m):\n\u001b[0;32m    686\u001b[0m   \u001b[39mif\u001b[39;00m context\u001b[39m.\u001b[39mexecuting_eagerly():\n\u001b[1;32m--> 687\u001b[0m     \u001b[39mreturn\u001b[39;00m \u001b[39mself\u001b[39m\u001b[39m.\u001b[39mread_value()\u001b[39m.\u001b[39mnumpy()\n\u001b[0;32m    688\u001b[0m   \u001b[39mraise\u001b[39;00m \u001b[39mNotImplementedError\u001b[39;00m(\n\u001b[0;32m    689\u001b[0m       \u001b[39m\"\u001b[39m\u001b[39mnumpy() is only available when eager execution is enabled.\u001b[39m\u001b[39m\"\u001b[39m)\n",
      "File \u001b[1;32mc:\\Users\\User\\anaconda3\\Lib\\site-packages\\tensorflow\\python\\ops\\resource_variable_ops.py:814\u001b[0m, in \u001b[0;36mBaseResourceVariable.read_value\u001b[1;34m(self)\u001b[0m\n\u001b[0;32m    805\u001b[0m \u001b[39m\u001b[39m\u001b[39m\"\"\"Constructs an op which reads the value of this variable.\u001b[39;00m\n\u001b[0;32m    806\u001b[0m \n\u001b[0;32m    807\u001b[0m \u001b[39mShould be used when there are multiple reads, or when it is desirable to\u001b[39;00m\n\u001b[1;32m   (...)\u001b[0m\n\u001b[0;32m    811\u001b[0m \u001b[39m  The value of the variable.\u001b[39;00m\n\u001b[0;32m    812\u001b[0m \u001b[39m\"\"\"\u001b[39;00m\n\u001b[0;32m    813\u001b[0m \u001b[39mwith\u001b[39;00m ops\u001b[39m.\u001b[39mname_scope(\u001b[39m\"\u001b[39m\u001b[39mRead\u001b[39m\u001b[39m\"\u001b[39m):\n\u001b[1;32m--> 814\u001b[0m   value \u001b[39m=\u001b[39m \u001b[39mself\u001b[39m\u001b[39m.\u001b[39m_read_variable_op()\n\u001b[0;32m    815\u001b[0m \u001b[39m# Return an identity so it can get placed on whatever device the context\u001b[39;00m\n\u001b[0;32m    816\u001b[0m \u001b[39m# specifies instead of the device where the variable is.\u001b[39;00m\n\u001b[0;32m    817\u001b[0m \u001b[39mreturn\u001b[39;00m array_ops\u001b[39m.\u001b[39midentity(value)\n",
      "File \u001b[1;32mc:\\Users\\User\\anaconda3\\Lib\\site-packages\\tensorflow\\python\\ops\\resource_variable_ops.py:793\u001b[0m, in \u001b[0;36mBaseResourceVariable._read_variable_op\u001b[1;34m(self, no_copy)\u001b[0m\n\u001b[0;32m    791\u001b[0m       result \u001b[39m=\u001b[39m read_and_set_handle(no_copy)\n\u001b[0;32m    792\u001b[0m \u001b[39melse\u001b[39;00m:\n\u001b[1;32m--> 793\u001b[0m   result \u001b[39m=\u001b[39m read_and_set_handle(no_copy)\n\u001b[0;32m    795\u001b[0m \u001b[39mif\u001b[39;00m \u001b[39mnot\u001b[39;00m context\u001b[39m.\u001b[39mexecuting_eagerly():\n\u001b[0;32m    796\u001b[0m   \u001b[39m# Note that if a control flow context is active the input of the read op\u001b[39;00m\n\u001b[0;32m    797\u001b[0m   \u001b[39m# might not actually be the handle. This line bypasses it.\u001b[39;00m\n\u001b[0;32m    798\u001b[0m   record\u001b[39m.\u001b[39mrecord_operation(\n\u001b[0;32m    799\u001b[0m       \u001b[39m\"\u001b[39m\u001b[39mReadVariableOp\u001b[39m\u001b[39m\"\u001b[39m, [result], [\u001b[39mself\u001b[39m\u001b[39m.\u001b[39mhandle],\n\u001b[0;32m    800\u001b[0m       backward_function\u001b[39m=\u001b[39m\u001b[39mlambda\u001b[39;00m x: [x],\n\u001b[0;32m    801\u001b[0m       forward_function\u001b[39m=\u001b[39m\u001b[39mlambda\u001b[39;00m x: [x])\n",
      "File \u001b[1;32mc:\\Users\\User\\anaconda3\\Lib\\site-packages\\tensorflow\\python\\ops\\resource_variable_ops.py:783\u001b[0m, in \u001b[0;36mBaseResourceVariable._read_variable_op.<locals>.read_and_set_handle\u001b[1;34m(no_copy)\u001b[0m\n\u001b[0;32m    781\u001b[0m \u001b[39mif\u001b[39;00m no_copy \u001b[39mand\u001b[39;00m forward_compat\u001b[39m.\u001b[39mforward_compatible(\u001b[39m2022\u001b[39m, \u001b[39m5\u001b[39m, \u001b[39m3\u001b[39m):\n\u001b[0;32m    782\u001b[0m   gen_resource_variable_ops\u001b[39m.\u001b[39mdisable_copy_on_read(\u001b[39mself\u001b[39m\u001b[39m.\u001b[39mhandle)\n\u001b[1;32m--> 783\u001b[0m result \u001b[39m=\u001b[39m gen_resource_variable_ops\u001b[39m.\u001b[39mread_variable_op(\n\u001b[0;32m    784\u001b[0m     \u001b[39mself\u001b[39m\u001b[39m.\u001b[39mhandle, \u001b[39mself\u001b[39m\u001b[39m.\u001b[39m_dtype)\n\u001b[0;32m    785\u001b[0m _maybe_set_handle_data(\u001b[39mself\u001b[39m\u001b[39m.\u001b[39m_dtype, \u001b[39mself\u001b[39m\u001b[39m.\u001b[39mhandle, result)\n\u001b[0;32m    786\u001b[0m \u001b[39mreturn\u001b[39;00m result\n",
      "File \u001b[1;32mc:\\Users\\User\\anaconda3\\Lib\\site-packages\\tensorflow\\python\\ops\\gen_resource_variable_ops.py:589\u001b[0m, in \u001b[0;36mread_variable_op\u001b[1;34m(resource, dtype, name)\u001b[0m\n\u001b[0;32m    587\u001b[0m \u001b[39mif\u001b[39;00m tld\u001b[39m.\u001b[39mis_eager:\n\u001b[0;32m    588\u001b[0m   \u001b[39mtry\u001b[39;00m:\n\u001b[1;32m--> 589\u001b[0m     _result \u001b[39m=\u001b[39m pywrap_tfe\u001b[39m.\u001b[39mTFE_Py_FastPathExecute(\n\u001b[0;32m    590\u001b[0m       _ctx, \u001b[39m\"\u001b[39m\u001b[39mReadVariableOp\u001b[39m\u001b[39m\"\u001b[39m, name, resource, \u001b[39m\"\u001b[39m\u001b[39mdtype\u001b[39m\u001b[39m\"\u001b[39m, dtype)\n\u001b[0;32m    591\u001b[0m     \u001b[39mreturn\u001b[39;00m _result\n\u001b[0;32m    592\u001b[0m   \u001b[39mexcept\u001b[39;00m _core\u001b[39m.\u001b[39m_NotOkStatusException \u001b[39mas\u001b[39;00m e:\n",
      "\u001b[1;31mKeyboardInterrupt\u001b[0m: "
     ]
    }
   ],
   "source": [
    "model.fit(X_train,y_train,epochs=100)"
   ]
  },
  {
   "cell_type": "code",
   "execution_count": null,
   "id": "16543fc6-c4d0-46f0-9527-c2a952659358",
   "metadata": {},
   "outputs": [
    {
     "name": "stdout",
     "output_type": "stream",
     "text": [
      "Model: \"sequential_4\"\n",
      "_________________________________________________________________\n",
      " Layer (type)                Output Shape              Param #   \n",
      "=================================================================\n",
      " dense_12 (Dense)            (32, 50)                  39250     \n",
      "                                                                 \n",
      " dense_13 (Dense)            (32, 30)                  1530      \n",
      "                                                                 \n",
      " dense_14 (Dense)            (32, 10)                  310       \n",
      "                                                                 \n",
      "=================================================================\n",
      "Total params: 41090 (160.51 KB)\n",
      "Trainable params: 41090 (160.51 KB)\n",
      "Non-trainable params: 0 (0.00 Byte)\n",
      "_________________________________________________________________\n"
     ]
    }
   ],
   "source": [
    "model.summary()"
   ]
  },
  {
   "cell_type": "code",
   "execution_count": null,
   "id": "f8323ed9-1fca-4790-ac3a-5fe088e662c8",
   "metadata": {},
   "outputs": [
    {
     "name": "stdout",
     "output_type": "stream",
     "text": [
      "263/263 - 0s - loss: 0.6650 - accuracy: 0.9519 - 433ms/epoch - 2ms/step\n"
     ]
    }
   ],
   "source": [
    "test_loss,test_accuracy=model.evaluate(X_val,y_val,verbose=2)"
   ]
  },
  {
   "cell_type": "code",
   "execution_count": null,
   "id": "7ba95d53-22fd-4bc7-82c9-dcc071af33e5",
   "metadata": {},
   "outputs": [
    {
     "name": "stdout",
     "output_type": "stream",
     "text": [
      "263/263 [==============================] - 0s 1ms/step\n"
     ]
    }
   ],
   "source": [
    "y_hat=model.predict(X_val)"
   ]
  },
  {
   "cell_type": "code",
   "execution_count": null,
   "id": "2f4e3d05-8770-49e0-9bbe-7e9e3ec9cb2c",
   "metadata": {},
   "outputs": [
    {
     "data": {
      "text/plain": [
       "(8400, 10)"
      ]
     },
     "execution_count": 116,
     "metadata": {},
     "output_type": "execute_result"
    }
   ],
   "source": [
    "y_hat=tf.nn.softmax(y_hat).numpy()\n",
    "y_hat.shape"
   ]
  },
  {
   "cell_type": "code",
   "execution_count": null,
   "id": "f99122ef-92cf-4d64-b92b-9e212e17d7fb",
   "metadata": {},
   "outputs": [],
   "source": [
    "yhat=[np.argmax(i) for i in y_hat]"
   ]
  },
  {
   "cell_type": "code",
   "execution_count": null,
   "id": "e13f7972-302a-45f3-8cf0-023e8a1c566b",
   "metadata": {},
   "outputs": [],
   "source": [
    "confusion_matrix = metrics.confusion_matrix(y_val, yhat)"
   ]
  },
  {
   "cell_type": "code",
   "execution_count": null,
   "id": "f437da04-09c7-4913-a453-c13b4cc837f3",
   "metadata": {},
   "outputs": [],
   "source": [
    "cm_display = metrics.ConfusionMatrixDisplay(confusion_matrix = confusion_matrix)"
   ]
  },
  {
   "cell_type": "code",
   "execution_count": null,
   "id": "46a1515d-5b40-46e1-b6b7-024a14de66a2",
   "metadata": {},
   "outputs": [
    {
     "data": {
      "image/png": "[encoded data removed]",
      "text/plain": [
       "<Figure size 640x480 with 2 Axes>"
      ]
     },
     "metadata": {},
     "output_type": "display_data"
    }
   ],
   "source": [
    "cm_display.plot()\n",
    "plt.show()\n",
    "\n"
   ]
  },
  {
   "cell_type": "code",
   "execution_count": null,
   "id": "b1b66df1-4855-4954-9203-4fe3f3eaf57e",
   "metadata": {},
   "outputs": [
    {
     "name": "stdout",
     "output_type": "stream",
     "text": [
      "0.9519047619047619\n"
     ]
    }
   ],
   "source": [
    "Accuracy = metrics.accuracy_score(y_val, yhat)\n",
    "\n",
    "print(Accuracy)\n",
    "\n"
   ]
  },
  {
   "cell_type": "code",
   "execution_count": null,
   "id": "e62a53b7-bcf9-4abf-b45b-7282be3c77d9",
   "metadata": {},
   "outputs": [],
   "source": []
  },
  {
   "cell_type": "code",
   "execution_count": null,
   "id": "80ef0727-effd-4d5f-9fd1-e79383256dff",
   "metadata": {},
   "outputs": [],
   "source": []
  }
 ],
 "metadata": {
  "kernelspec": {
   "display_name": "Python 3 (ipykernel)",
   "language": "python",
   "name": "python3"
  },
  "language_info": {
   "codemirror_mode": {
    "name": "ipython",
    "version": 3
   },
   "file_extension": ".py",
   "mimetype": "text/x-python",
   "name": "python",
   "nbconvert_exporter": "python",
   "pygments_lexer": "ipython3",
   "version": "3.11.5"
  }
 },
 "nbformat": 4,
 "nbformat_minor": 5
}
