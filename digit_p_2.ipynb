{
 "cells": [
  {
   "cell_type": "code",
   "execution_count": 53,
   "id": "52e97e7f-eb15-4ac2-b4a7-0bf9a985912b",
   "metadata": {},
   "outputs": [],
   "source": [
    "import pandas as pd\n",
    "import numpy as np\n",
    "import matplotlib.pyplot as plt\n",
    "import tensorflow as tf\n",
    "from tensorflow.keras.layers import Dense\n",
    "from tensorflow.keras import Sequential\n",
    "from sklearn.model_selection import train_test_split\n",
    "from sklearn import metrics\n",
    " "
   ]
  },
  {
   "cell_type": "code",
   "execution_count": 54,
   "id": "5e5d2994-6fc4-47f6-a331-abacd67ed9e6",
   "metadata": {},
   "outputs": [],
   "source": [
    "df_train=pd.read_csv(\"train.csv\")\n",
    "df_test=pd.read_csv(\"test.csv\")"
   ]
  },
  {
   "cell_type": "code",
   "execution_count": 55,
   "id": "fdf28bcb-1276-4b3b-b3a3-670d0fbee6d0",
   "metadata": {},
   "outputs": [
    {
     "name": "stdout",
     "output_type": "stream",
     "text": [
      "(42000, 785)\n"
     ]
    },
    {
     "data": {
      "text/plain": [
       "Index(['label', 'pixel0', 'pixel1', 'pixel2', 'pixel3', 'pixel4', 'pixel5',\n",
       "       'pixel6', 'pixel7', 'pixel8',\n",
       "       ...\n",
       "       'pixel774', 'pixel775', 'pixel776', 'pixel777', 'pixel778', 'pixel779',\n",
       "       'pixel780', 'pixel781', 'pixel782', 'pixel783'],\n",
       "      dtype='object', length=785)"
      ]
     },
     "execution_count": 55,
     "metadata": {},
     "output_type": "execute_result"
    }
   ],
   "source": [
    "print(df_train.shape)\n",
    "df_train.columns"
   ]
  },
  {
   "cell_type": "code",
   "execution_count": 56,
   "id": "1b7d53f6-47bf-43b0-8662-f15aea1fa518",
   "metadata": {},
   "outputs": [],
   "source": [
    "feature=[i for i in df_train.columns if i !=\"label\"]"
   ]
  },
  {
   "cell_type": "code",
   "execution_count": 57,
   "id": "233b6114-baf4-4037-900a-6b6dc16e481c",
   "metadata": {},
   "outputs": [],
   "source": [
    "X_train,y_train=df_train[feature],df_train[\"label\"]"
   ]
  },
  {
   "cell_type": "code",
   "execution_count": 58,
   "id": "f8a95f21-b963-4a75-b572-35b7c179ac6e",
   "metadata": {},
   "outputs": [
    {
     "data": {
      "text/plain": [
       "(42000, 784)"
      ]
     },
     "execution_count": 58,
     "metadata": {},
     "output_type": "execute_result"
    }
   ],
   "source": [
    "X_train,y_train=np.array(X_train),np.array(y_train)\n",
    "X_train.shape"
   ]
  },
  {
   "cell_type": "code",
   "execution_count": 59,
   "id": "7efc28f3-76e0-409f-81d5-3682a4bc0d12",
   "metadata": {},
   "outputs": [
    {
     "name": "stdout",
     "output_type": "stream",
     "text": [
      "(33600, 784) (8400, 784)\n"
     ]
    }
   ],
   "source": [
    "X_train,X_val,y_train,y_val=train_test_split(X_train,y_train,test_size=0.2,random_state=1)\n",
    "print(X_train.shape,X_val.shape)"
   ]
  },
  {
   "cell_type": "code",
   "execution_count": 60,
   "id": "9677fd7c-a8b0-4133-a8c3-751f2748284c",
   "metadata": {},
   "outputs": [],
   "source": [
    "model=Sequential([\n",
    "    Dense(units=25,activation=\"relu\"),\n",
    "    Dense(units=15,activation=\"relu\"),\n",
    "    Dense(units=10)\n",
    "])"
   ]
  },
  {
   "cell_type": "code",
   "execution_count": 61,
   "id": "97213e88-1a84-4a10-ad87-9a5b2e677b71",
   "metadata": {},
   "outputs": [],
   "source": [
    "model.compile(optimizer=tf.keras.optimizers.Adam(learning_rate=1e-3),\n",
    "             loss=tf.keras.losses.SparseCategoricalCrossentropy(from_logits=True),\n",
    "             metrics=[\"accuracy\"])"
   ]
  },
  {
   "cell_type": "code",
   "execution_count": 62,
   "id": "bec4b930-4508-45a0-95e9-acf1b7fc5e65",
   "metadata": {},
   "outputs": [
    {
     "name": "stdout",
     "output_type": "stream",
     "text": [
      "Epoch 1/100\n",
      "1050/1050 [==============================] - 1s 757us/step - loss: 0.4617 - accuracy: 0.8653\n",
      "Epoch 2/100\n",
      "1050/1050 [==============================] - 1s 703us/step - loss: 0.2028 - accuracy: 0.9403\n",
      "Epoch 3/100\n",
      "1050/1050 [==============================] - 1s 701us/step - loss: 0.1560 - accuracy: 0.9545\n",
      "Epoch 4/100\n",
      "1050/1050 [==============================] - 1s 698us/step - loss: 0.1294 - accuracy: 0.9615\n",
      "Epoch 5/100\n",
      "1050/1050 [==============================] - 1s 705us/step - loss: 0.1118 - accuracy: 0.9644\n",
      "Epoch 6/100\n",
      "1050/1050 [==============================] - 1s 713us/step - loss: 0.0954 - accuracy: 0.9705\n",
      "Epoch 7/100\n",
      "1050/1050 [==============================] - 1s 745us/step - loss: 0.0870 - accuracy: 0.9725\n",
      "Epoch 8/100\n",
      "1050/1050 [==============================] - 1s 704us/step - loss: 0.0777 - accuracy: 0.9763\n",
      "Epoch 9/100\n",
      "1050/1050 [==============================] - 1s 701us/step - loss: 0.0697 - accuracy: 0.9783\n",
      "Epoch 10/100\n",
      "1050/1050 [==============================] - 1s 702us/step - loss: 0.0628 - accuracy: 0.9801\n",
      "Epoch 11/100\n",
      "1050/1050 [==============================] - 1s 703us/step - loss: 0.0578 - accuracy: 0.9812\n",
      "Epoch 12/100\n",
      "1050/1050 [==============================] - 1s 708us/step - loss: 0.0517 - accuracy: 0.9833\n",
      "Epoch 13/100\n",
      "1050/1050 [==============================] - 1s 709us/step - loss: 0.0478 - accuracy: 0.9847\n",
      "Epoch 14/100\n",
      "1050/1050 [==============================] - 1s 718us/step - loss: 0.0433 - accuracy: 0.9860\n",
      "Epoch 15/100\n",
      "1050/1050 [==============================] - 1s 685us/step - loss: 0.0387 - accuracy: 0.9869\n",
      "Epoch 16/100\n",
      "1050/1050 [==============================] - 1s 713us/step - loss: 0.0377 - accuracy: 0.9876\n",
      "Epoch 17/100\n",
      "1050/1050 [==============================] - 1s 714us/step - loss: 0.0337 - accuracy: 0.9896\n",
      "Epoch 18/100\n",
      "1050/1050 [==============================] - 1s 715us/step - loss: 0.0327 - accuracy: 0.9893\n",
      "Epoch 19/100\n",
      "1050/1050 [==============================] - 1s 696us/step - loss: 0.0273 - accuracy: 0.9915\n",
      "Epoch 20/100\n",
      "1050/1050 [==============================] - 1s 717us/step - loss: 0.0259 - accuracy: 0.9919\n",
      "Epoch 21/100\n",
      "1050/1050 [==============================] - 1s 691us/step - loss: 0.0261 - accuracy: 0.9914\n",
      "Epoch 22/100\n",
      "1050/1050 [==============================] - 1s 685us/step - loss: 0.0241 - accuracy: 0.9926\n",
      "Epoch 23/100\n",
      "1050/1050 [==============================] - 1s 682us/step - loss: 0.0230 - accuracy: 0.9923\n",
      "Epoch 24/100\n",
      "1050/1050 [==============================] - 1s 689us/step - loss: 0.0200 - accuracy: 0.9936\n",
      "Epoch 25/100\n",
      "1050/1050 [==============================] - 1s 713us/step - loss: 0.0190 - accuracy: 0.9940\n",
      "Epoch 26/100\n",
      "1050/1050 [==============================] - 1s 702us/step - loss: 0.0207 - accuracy: 0.9934\n",
      "Epoch 27/100\n",
      "1050/1050 [==============================] - 1s 703us/step - loss: 0.0165 - accuracy: 0.9954\n",
      "Epoch 28/100\n",
      "1050/1050 [==============================] - 1s 700us/step - loss: 0.0197 - accuracy: 0.9938\n",
      "Epoch 29/100\n",
      "1050/1050 [==============================] - 1s 702us/step - loss: 0.0145 - accuracy: 0.9954\n",
      "Epoch 30/100\n",
      "1050/1050 [==============================] - 1s 700us/step - loss: 0.0185 - accuracy: 0.9939\n",
      "Epoch 31/100\n",
      "1050/1050 [==============================] - 1s 692us/step - loss: 0.0146 - accuracy: 0.9951\n",
      "Epoch 32/100\n",
      "1050/1050 [==============================] - 1s 697us/step - loss: 0.0146 - accuracy: 0.9953\n",
      "Epoch 33/100\n",
      "1050/1050 [==============================] - 1s 687us/step - loss: 0.0142 - accuracy: 0.9953\n",
      "Epoch 34/100\n",
      "1050/1050 [==============================] - 1s 694us/step - loss: 0.0177 - accuracy: 0.9950\n",
      "Epoch 35/100\n",
      "1050/1050 [==============================] - 1s 702us/step - loss: 0.0168 - accuracy: 0.9948\n",
      "Epoch 36/100\n",
      "1050/1050 [==============================] - 1s 709us/step - loss: 0.0094 - accuracy: 0.9968\n",
      "Epoch 37/100\n",
      "1050/1050 [==============================] - 1s 696us/step - loss: 0.0084 - accuracy: 0.9976\n",
      "Epoch 38/100\n",
      "1050/1050 [==============================] - 1s 689us/step - loss: 0.0147 - accuracy: 0.9949\n",
      "Epoch 39/100\n",
      "1050/1050 [==============================] - 1s 706us/step - loss: 0.0116 - accuracy: 0.9965\n",
      "Epoch 40/100\n",
      "1050/1050 [==============================] - 1s 711us/step - loss: 0.0110 - accuracy: 0.9965\n",
      "Epoch 41/100\n",
      "1050/1050 [==============================] - 1s 695us/step - loss: 0.0119 - accuracy: 0.9960\n",
      "Epoch 42/100\n",
      "1050/1050 [==============================] - 1s 720us/step - loss: 0.0104 - accuracy: 0.9966\n",
      "Epoch 43/100\n",
      "1050/1050 [==============================] - 1s 741us/step - loss: 0.0113 - accuracy: 0.9968\n",
      "Epoch 44/100\n",
      "1050/1050 [==============================] - 1s 740us/step - loss: 0.0130 - accuracy: 0.9960\n",
      "Epoch 45/100\n",
      "1050/1050 [==============================] - 1s 767us/step - loss: 0.0077 - accuracy: 0.9974\n",
      "Epoch 46/100\n",
      "1050/1050 [==============================] - 1s 747us/step - loss: 0.0141 - accuracy: 0.9957\n",
      "Epoch 47/100\n",
      "1050/1050 [==============================] - 1s 758us/step - loss: 0.0155 - accuracy: 0.9955\n",
      "Epoch 48/100\n",
      "1050/1050 [==============================] - 1s 755us/step - loss: 0.0077 - accuracy: 0.9977\n",
      "Epoch 49/100\n",
      "1050/1050 [==============================] - 1s 835us/step - loss: 0.0063 - accuracy: 0.9978\n",
      "Epoch 50/100\n",
      "1050/1050 [==============================] - 1s 790us/step - loss: 0.0173 - accuracy: 0.9942\n",
      "Epoch 51/100\n",
      "1050/1050 [==============================] - 1s 730us/step - loss: 0.0086 - accuracy: 0.9971\n",
      "Epoch 52/100\n",
      "1050/1050 [==============================] - 1s 727us/step - loss: 0.0057 - accuracy: 0.9985\n",
      "Epoch 53/100\n",
      "1050/1050 [==============================] - 1s 731us/step - loss: 0.0093 - accuracy: 0.9975\n",
      "Epoch 54/100\n",
      "1050/1050 [==============================] - 1s 730us/step - loss: 0.0156 - accuracy: 0.9953\n",
      "Epoch 55/100\n",
      "1050/1050 [==============================] - 1s 730us/step - loss: 0.0098 - accuracy: 0.9971\n",
      "Epoch 56/100\n",
      "1050/1050 [==============================] - 1s 721us/step - loss: 0.0038 - accuracy: 0.9987\n",
      "Epoch 57/100\n",
      "1050/1050 [==============================] - 1s 731us/step - loss: 0.0127 - accuracy: 0.9962\n",
      "Epoch 58/100\n",
      "1050/1050 [==============================] - 1s 708us/step - loss: 0.0097 - accuracy: 0.9964\n",
      "Epoch 59/100\n",
      "1050/1050 [==============================] - 1s 731us/step - loss: 0.0064 - accuracy: 0.9978\n",
      "Epoch 60/100\n",
      "1050/1050 [==============================] - 1s 727us/step - loss: 0.0077 - accuracy: 0.9975\n",
      "Epoch 61/100\n",
      "1050/1050 [==============================] - 1s 713us/step - loss: 0.0114 - accuracy: 0.9967\n",
      "Epoch 62/100\n",
      "1050/1050 [==============================] - 1s 713us/step - loss: 0.0091 - accuracy: 0.9971\n",
      "Epoch 63/100\n",
      "1050/1050 [==============================] - 1s 720us/step - loss: 0.0080 - accuracy: 0.9978\n",
      "Epoch 64/100\n",
      "1050/1050 [==============================] - 1s 731us/step - loss: 0.0084 - accuracy: 0.9974\n",
      "Epoch 65/100\n",
      "1050/1050 [==============================] - 1s 783us/step - loss: 0.0093 - accuracy: 0.9974\n",
      "Epoch 66/100\n",
      "1050/1050 [==============================] - 1s 733us/step - loss: 0.0138 - accuracy: 0.9961\n",
      "Epoch 67/100\n",
      "1050/1050 [==============================] - 1s 721us/step - loss: 0.0055 - accuracy: 0.9983\n",
      "Epoch 68/100\n",
      "1050/1050 [==============================] - 1s 725us/step - loss: 0.0039 - accuracy: 0.9987\n",
      "Epoch 69/100\n",
      "1050/1050 [==============================] - 1s 754us/step - loss: 0.0093 - accuracy: 0.9970\n",
      "Epoch 70/100\n",
      "1050/1050 [==============================] - 1s 711us/step - loss: 0.0138 - accuracy: 0.9960\n",
      "Epoch 71/100\n",
      "1050/1050 [==============================] - 1s 720us/step - loss: 0.0100 - accuracy: 0.9970\n",
      "Epoch 72/100\n",
      "1050/1050 [==============================] - 1s 697us/step - loss: 0.0039 - accuracy: 0.9989\n",
      "Epoch 73/100\n",
      "1050/1050 [==============================] - 1s 727us/step - loss: 0.0028 - accuracy: 0.9989\n",
      "Epoch 74/100\n",
      "1050/1050 [==============================] - 1s 706us/step - loss: 0.0125 - accuracy: 0.9962\n",
      "Epoch 75/100\n",
      "1050/1050 [==============================] - 1s 734us/step - loss: 0.0065 - accuracy: 0.9980\n",
      "Epoch 76/100\n",
      "1050/1050 [==============================] - 1s 714us/step - loss: 0.0075 - accuracy: 0.9979\n",
      "Epoch 77/100\n",
      "1050/1050 [==============================] - 1s 729us/step - loss: 0.0080 - accuracy: 0.9977\n",
      "Epoch 78/100\n",
      "1050/1050 [==============================] - 1s 727us/step - loss: 0.0121 - accuracy: 0.9972\n",
      "Epoch 79/100\n",
      "1050/1050 [==============================] - 1s 731us/step - loss: 0.0111 - accuracy: 0.9968\n",
      "Epoch 80/100\n",
      "1050/1050 [==============================] - 1s 724us/step - loss: 0.0030 - accuracy: 0.9988\n",
      "Epoch 81/100\n",
      "1050/1050 [==============================] - 1s 716us/step - loss: 0.0094 - accuracy: 0.9979\n",
      "Epoch 82/100\n",
      "1050/1050 [==============================] - 1s 759us/step - loss: 0.0091 - accuracy: 0.9974\n",
      "Epoch 83/100\n",
      "1050/1050 [==============================] - 1s 743us/step - loss: 0.0081 - accuracy: 0.9976\n",
      "Epoch 84/100\n",
      "1050/1050 [==============================] - 1s 723us/step - loss: 0.0086 - accuracy: 0.9975\n",
      "Epoch 85/100\n",
      "1050/1050 [==============================] - 1s 733us/step - loss: 0.0039 - accuracy: 0.9988\n",
      "Epoch 86/100\n",
      "1050/1050 [==============================] - 1s 712us/step - loss: 0.0053 - accuracy: 0.9983\n",
      "Epoch 87/100\n",
      "1050/1050 [==============================] - 1s 707us/step - loss: 0.0119 - accuracy: 0.9964\n",
      "Epoch 88/100\n",
      "1050/1050 [==============================] - 1s 712us/step - loss: 0.0111 - accuracy: 0.9976\n",
      "Epoch 89/100\n",
      "1050/1050 [==============================] - 1s 750us/step - loss: 0.0032 - accuracy: 0.9991\n",
      "Epoch 90/100\n",
      "1050/1050 [==============================] - 1s 718us/step - loss: 0.0055 - accuracy: 0.9985\n",
      "Epoch 91/100\n",
      "1050/1050 [==============================] - 1s 714us/step - loss: 0.0051 - accuracy: 0.9987\n",
      "Epoch 92/100\n",
      "1050/1050 [==============================] - 1s 712us/step - loss: 0.0157 - accuracy: 0.9953\n",
      "Epoch 93/100\n",
      "1050/1050 [==============================] - 1s 732us/step - loss: 0.0103 - accuracy: 0.9977\n",
      "Epoch 94/100\n",
      "1050/1050 [==============================] - 1s 733us/step - loss: 0.0100 - accuracy: 0.9976\n",
      "Epoch 95/100\n",
      "1050/1050 [==============================] - 1s 720us/step - loss: 0.0093 - accuracy: 0.9972\n",
      "Epoch 96/100\n",
      "1050/1050 [==============================] - 1s 717us/step - loss: 0.0056 - accuracy: 0.9984\n",
      "Epoch 97/100\n",
      "1050/1050 [==============================] - 1s 699us/step - loss: 0.0052 - accuracy: 0.9983\n",
      "Epoch 98/100\n",
      "1050/1050 [==============================] - 1s 735us/step - loss: 0.0061 - accuracy: 0.9983\n",
      "Epoch 99/100\n",
      "1050/1050 [==============================] - 1s 723us/step - loss: 0.0091 - accuracy: 0.9974\n",
      "Epoch 100/100\n",
      "1050/1050 [==============================] - 1s 717us/step - loss: 0.0093 - accuracy: 0.9972\n"
     ]
    },
    {
     "data": {
      "text/plain": [
       "<keras.src.callbacks.History at 0x1e28cab1890>"
      ]
     },
     "execution_count": 62,
     "metadata": {},
     "output_type": "execute_result"
    }
   ],
   "source": [
    "model.fit(X_train_norm,y_train,epochs=100)"
   ]
  },
  {
   "cell_type": "code",
   "execution_count": 63,
   "id": "8c79c601-d019-4b53-aee6-f4a394ba4e4b",
   "metadata": {},
   "outputs": [
    {
     "name": "stdout",
     "output_type": "stream",
     "text": [
      "263/263 - 0s - loss: 268.3906 - accuracy: 0.7989 - 212ms/epoch - 807us/step\n"
     ]
    }
   ],
   "source": [
    "test_loss,test_accuracy=model.evaluate(X_val,y_val,verbose=2)"
   ]
  },
  {
   "cell_type": "code",
   "execution_count": 64,
   "id": "3e4b2179-d576-45cb-9e44-9f4e439123bb",
   "metadata": {},
   "outputs": [
    {
     "name": "stdout",
     "output_type": "stream",
     "text": [
      "263/263 [==============================] - 0s 589us/step\n"
     ]
    }
   ],
   "source": [
    "y_hat=model.predict(X_val)"
   ]
  },
  {
   "cell_type": "code",
   "execution_count": 65,
   "id": "20283cc2-11a0-4d73-91e0-40afb3db0e16",
   "metadata": {},
   "outputs": [
    {
     "data": {
      "text/plain": [
       "(8400, 10)"
      ]
     },
     "execution_count": 65,
     "metadata": {},
     "output_type": "execute_result"
    }
   ],
   "source": [
    "y_hat=tf.nn.softmax(y_hat).numpy()\n",
    "y_hat.shape"
   ]
  },
  {
   "cell_type": "code",
   "execution_count": 66,
   "id": "92c1d6b0-3c05-4ac7-9e04-ff992ca627da",
   "metadata": {},
   "outputs": [],
   "source": [
    "yhat=[np.argmax(i) for i in y_hat]"
   ]
  },
  {
   "cell_type": "code",
   "execution_count": 67,
   "id": "863de8e9-90ee-4117-ad66-708827893b42",
   "metadata": {},
   "outputs": [],
   "source": [
    "confusion_matrix = metrics.confusion_matrix(y_val, yhat)"
   ]
  },
  {
   "cell_type": "code",
   "execution_count": 68,
   "id": "92685490-8c7a-47e1-b72a-030ee5551636",
   "metadata": {},
   "outputs": [],
   "source": [
    "cm_display = metrics.ConfusionMatrixDisplay(confusion_matrix = confusion_matrix)"
   ]
  },
  {
   "cell_type": "code",
   "execution_count": 69,
   "id": "78b49595-4b15-478a-bf68-f0e159e35e2b",
   "metadata": {},
   "outputs": [
    {
     "data": {
      "image/png": "[encoded data removed]",
      "text/plain": [
       "<Figure size 640x480 with 2 Axes>"
      ]
     },
     "metadata": {},
     "output_type": "display_data"
    }
   ],
   "source": [
    "cm_display.plot()\n",
    "plt.show()\n",
    "\n"
   ]
  },
  {
   "cell_type": "code",
   "execution_count": null,
   "id": "a5e4004d-48e1-4186-841c-59216bdf5427",
   "metadata": {},
   "outputs": [],
   "source": []
  }
 ],
 "metadata": {
  "kernelspec": {
   "display_name": "Python 3 (ipykernel)",
   "language": "python",
   "name": "python3"
  },
  "language_info": {
   "codemirror_mode": {
    "name": "ipython",
    "version": 3
   },
   "file_extension": ".py",
   "mimetype": "text/x-python",
   "name": "python",
   "nbconvert_exporter": "python",
   "pygments_lexer": "ipython3",
   "version": "3.11.5"
  }
 },
 "nbformat": 4,
 "nbformat_minor": 5
}
